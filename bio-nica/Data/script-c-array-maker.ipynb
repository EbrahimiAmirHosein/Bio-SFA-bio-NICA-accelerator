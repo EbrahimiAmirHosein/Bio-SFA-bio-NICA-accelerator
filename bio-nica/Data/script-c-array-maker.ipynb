{
 "cells": [
  {
   "cell_type": "code",
   "execution_count": 37,
   "id": "d0b3e01b",
   "metadata": {},
   "outputs": [],
   "source": [
    "import numpy as np"
   ]
  },
  {
   "cell_type": "code",
   "execution_count": 38,
   "id": "40c6b583",
   "metadata": {},
   "outputs": [],
   "source": [
    "mod = 3\n",
    "with open('mixtures.txt') as f:\n",
    "    lines = f.readlines()"
   ]
  },
  {
   "cell_type": "code",
   "execution_count": 55,
   "id": "c6ab0541",
   "metadata": {},
   "outputs": [],
   "source": [
    "X = []\n",
    "for line in lines:\n",
    "    X.append(float(line.split(',')[0].replace('\\n','')))"
   ]
  },
  {
   "cell_type": "code",
   "execution_count": 64,
   "id": "055682f0",
   "metadata": {},
   "outputs": [],
   "source": [
    "X = np.asarray(X)\n",
    "reshaped_x = []\n",
    "for i in range (len(X)):\n",
    "    reshaped_x.append(X[i])\n",
    "reshaped_x = np.asarray(reshaped_x,dtype=float).reshape(3,100000)"
   ]
  },
  {
   "cell_type": "code",
   "execution_count": 71,
   "id": "9cfebaa6",
   "metadata": {},
   "outputs": [],
   "source": [
    "dims = [100000,80000,50000,20000,10000]\n",
    "types = ['txt','h']\n",
    "for typ in types:\n",
    "    for dim in dims:\n",
    "        if typ == 'h':\n",
    "            with open(f'Out/data_({dim}).{typ}', 'w') as f:\n",
    "                f.write(f\"float array [{dim}][3] = \\n\")\n",
    "\n",
    "                f.write('{\\n')\n",
    "                for i in range(dim):\n",
    "                    for j in range(0,3):\n",
    "                        if j == 0 :\n",
    "                            f.write(\"{\")\n",
    "                        if j < 2 :\n",
    "                            f.write(f\"{reshaped_x[j][i]},\")\n",
    "                        else:\n",
    "                            f.write(f\"{reshaped_x[j][i]}\")\n",
    "                        if j >= 2 :\n",
    "\n",
    "                            f.write(\"},\\n\")\n",
    "                f.write(\"\\n};\")\n",
    "        elif typ == 'txt':\n",
    "            with open(f'Out/X_{dim}.{typ}', 'w') as f:\n",
    "            \n",
    "                f.write(f\"float array [3][{dim}] = \\n\")\n",
    "\n",
    "                f.write('{\\n')\n",
    "                for i in range(dim):\n",
    "                    for j in range(0,3):\n",
    "                        if j == 0 :\n",
    "                            f.write(\"{\")\n",
    "                        if j < 2 :\n",
    "                            f.write(f\"{reshaped_x[j][i]},\")\n",
    "                        else:\n",
    "                            f.write(f\"{reshaped_x[j][i]}\")\n",
    "                        if j >= 2 :\n",
    "\n",
    "                            f.write(\"},\\n\")\n",
    "                f.write(\"\\n};\")"
   ]
  },
  {
   "cell_type": "code",
   "execution_count": 87,
   "id": "163e0b22",
   "metadata": {
    "scrolled": true
   },
   "outputs": [],
   "source": [
    "a =   [[4., 3., 2.],\n",
    "       [5., 0., 5.],\n",
    "       [1., 2., 3.]]\n",
    "a = np.asarray(a)"
   ]
  },
  {
   "cell_type": "code",
   "execution_count": 88,
   "id": "2b495838",
   "metadata": {},
   "outputs": [
    {
     "data": {
      "text/plain": [
       "array([[29., 30., 16.],\n",
       "       [30., 50., 20.],\n",
       "       [16., 20., 14.]])"
      ]
     },
     "execution_count": 88,
     "metadata": {},
     "output_type": "execute_result"
    }
   ],
   "source": [
    "a@a.T"
   ]
  },
  {
   "cell_type": "code",
   "execution_count": null,
   "id": "d0c72459",
   "metadata": {},
   "outputs": [],
   "source": []
  }
 ],
 "metadata": {
  "kernelspec": {
   "display_name": "Python 3",
   "language": "python",
   "name": "python3"
  },
  "language_info": {
   "codemirror_mode": {
    "name": "ipython",
    "version": 3
   },
   "file_extension": ".py",
   "mimetype": "text/x-python",
   "name": "python",
   "nbconvert_exporter": "python",
   "pygments_lexer": "ipython3",
   "version": "3.8.10"
  }
 },
 "nbformat": 4,
 "nbformat_minor": 5
}
