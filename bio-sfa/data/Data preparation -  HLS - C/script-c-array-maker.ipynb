{
 "cells": [
  {
   "cell_type": "code",
   "execution_count": 66,
   "id": "d0b3e01b",
   "metadata": {},
   "outputs": [],
   "source": [
    "import numpy as np"
   ]
  },
  {
   "cell_type": "code",
   "execution_count": 67,
   "id": "40c6b583",
   "metadata": {},
   "outputs": [],
   "source": [
    "mod = 14\n",
    "with open('X.txt') as f:\n",
    "    lines = f.readlines()\n",
    "X = (lines[0].split(','))\n"
   ]
  },
  {
   "cell_type": "code",
   "execution_count": 68,
   "id": "055682f0",
   "metadata": {},
   "outputs": [],
   "source": [
    "X = np.asarray(X)\n",
    "reshaped_x = []\n",
    "for i in range (len(X)-1):\n",
    "    reshaped_x.append(X[i])\n",
    "reshaped_x = np.asarray(reshaped_x,dtype=float).reshape(10000,14)"
   ]
  },
  {
   "cell_type": "code",
   "execution_count": 69,
   "id": "9cfebaa6",
   "metadata": {},
   "outputs": [],
   "source": [
    "dim = 10000\n",
    "with open(f'x_{dim}.txt', 'w') as f:\n",
    "    f.write(f\"float array [{dim}][14] = \\n\")\n",
    "    \n",
    "    f.write('{\\n')\n",
    "    for j in range(dim):\n",
    "        for i in range(0,14):\n",
    "            if i == 0 :\n",
    "                f.write(\"{\")\n",
    "            if i < 13 :\n",
    "                f.write(f\"{reshaped_x[j][i]},\")\n",
    "            else:\n",
    "                f.write(f\"{reshaped_x[j][i]}\")\n",
    "            if i >= 13 :\n",
    "                \n",
    "                f.write(\"},\\n\")\n",
    "    f.write(\"\\n};\")\n"
   ]
  }
 ],
 "metadata": {
  "kernelspec": {
   "display_name": "Python 3",
   "language": "python",
   "name": "python3"
  },
  "language_info": {
   "codemirror_mode": {
    "name": "ipython",
    "version": 3
   },
   "file_extension": ".py",
   "mimetype": "text/x-python",
   "name": "python",
   "nbconvert_exporter": "python",
   "pygments_lexer": "ipython3",
   "version": "3.8.10"
  }
 },
 "nbformat": 4,
 "nbformat_minor": 5
}
