{
 "cells": [
  {
   "cell_type": "code",
   "execution_count": 15,
   "metadata": {},
   "outputs": [],
   "source": [
    "import numpy as np"
   ]
  },
  {
   "cell_type": "code",
   "execution_count": 17,
   "metadata": {},
   "outputs": [
    {
     "name": "stdout",
     "output_type": "stream",
     "text": [
      "99.99999978400001\n"
     ]
    }
   ],
   "source": [
    "Software_SFA = [0.99993, 0.12573, 0.13210, 0.64042, 0.10490 ,0.53566 ,0.36159,1.30400 ,0.9470, 0.7037, 1.2654, 0.6232 ,0.0413, 2.3250, 0.2187]\n",
    "Hardware_SFA = [0.99975, 0.12573, 0.13210, 0.64042, 0.10490 ,0.53566 ,0.36159,1.30400 ,0.9470 ,0.7037 ,1.2654, 0.6232, 0.0413, 2.3250, 0.2187]\n",
    "Software_SFA = np.asarray(Software_SFA)\n",
    "Hardware_SFA = np.asarray(Hardware_SFA)\n",
    "mse_sfa = np.square(np.subtract(Software_SFA, Hardware_SFA)).mean()\n",
    "acc_sfa = (1 - mse_sfa)*100\n",
    "print(acc_sfa)\n"
   ]
  },
  {
   "cell_type": "code",
   "execution_count": 19,
   "metadata": {},
   "outputs": [
    {
     "name": "stdout",
     "output_type": "stream",
     "text": [
      "100.0\n"
     ]
    }
   ],
   "source": [
    "Software_NICA = [0.2176, 0.6072, 0.6865, 0.8356, 0.0771, -0.3399 ,0.2807 ,-0.7225 ,0.5735,0.9388, -0.0004, 0.0085, -0.0004, 0.9049 ,-0.0012, 0.0083, -0.0011, 0.9641]\n",
    "haHardware_NICA = [0.2176 ,0.6072, 0.6865 ,0.8356 ,0.0771 ,-0.3399 ,0.2807, -0.7225, 0.5735,0.9388, -0.0004 ,0.0085, -0.0004 ,0.9049, -0.0012 ,0.0083 ,-0.0011 ,0.9641]\n",
    "Software_NICA = np.asarray(Software_NICA)\n",
    "Hardware_NICA = np.asarray(haHardware_NICA)\n",
    "mse_nica = np.square(np.subtract(Software_NICA, Hardware_NICA)).mean()\n",
    "acc_nica = (1 - mse_nica)*100\n",
    "print(acc_nica)"
   ]
  },
  {
   "cell_type": "code",
   "execution_count": null,
   "metadata": {},
   "outputs": [],
   "source": []
  }
 ],
 "metadata": {
  "kernelspec": {
   "display_name": "Python 3.9.5 64-bit",
   "language": "python",
   "name": "python3"
  },
  "language_info": {
   "codemirror_mode": {
    "name": "ipython",
    "version": 3
   },
   "file_extension": ".py",
   "mimetype": "text/x-python",
   "name": "python",
   "nbconvert_exporter": "python",
   "pygments_lexer": "ipython3",
   "version": "3.9.5"
  },
  "orig_nbformat": 4,
  "vscode": {
   "interpreter": {
    "hash": "ee5aa74833f654a22b2cb01774c8db88004a83679701675166cc84d446fe5a82"
   }
  }
 },
 "nbformat": 4,
 "nbformat_minor": 2
}
